{
 "cells": [
  {
   "cell_type": "code",
   "execution_count": 1,
   "metadata": {},
   "outputs": [
    {
     "name": "stderr",
     "output_type": "stream",
     "text": [
      "C:\\Users\\Divyanshu\\anaconda3\\lib\\site-packages\\fuzzywuzzy\\fuzz.py:11: UserWarning: Using slow pure-python SequenceMatcher. Install python-Levenshtein to remove this warning\n",
      "  warnings.warn('Using slow pure-python SequenceMatcher. Install python-Levenshtein to remove this warning')\n"
     ]
    }
   ],
   "source": [
    "import pandas as pd\n",
    "import matplotlib.pyplot as plt\n",
    "from NSEDownload import stocks\n",
    "from datetime import date"
   ]
  },
  {
   "cell_type": "code",
   "execution_count": 2,
   "metadata": {},
   "outputs": [
    {
     "data": {
      "text/plain": [
       "'19-06-2021'"
      ]
     },
     "execution_count": 2,
     "metadata": {},
     "output_type": "execute_result"
    }
   ],
   "source": [
    "today=date.today().strftime(%d-%m-%Y)\n",
    "toay"
   ]
  },
  {
   "cell_type": "code",
   "execution_count": 13,
   "metadata": {},
   "outputs": [
    {
     "name": "stdout",
     "output_type": "stream",
     "text": [
      "20MICRONS\n",
      "Downloading  [-] 100.00 % \n",
      "21STCENMGM\n",
      "Downloading  [-] 100.00 % \n",
      "3IINFOTECH\n",
      "Unsuccessful attempt. Trying again.\n",
      "Error : Empty dataframe. Please try Again.\n",
      "Downloading  [-] 100.00 % \n",
      "3MINDIA\n",
      "Downloading  [-] 100.00 % \n",
      "3PLAND\n",
      "Downloading  [-] 100.00 % \n",
      "5PAISA\n",
      "Downloading  [-] 100.00 % \n",
      "63MOONS\n",
      "Unsuccessful attempt. Trying again.\n",
      "Error : Empty dataframe. Please try Again.\n",
      "Downloading  [-] 100.00 % \n",
      "A2ZINFRA\n",
      "Unsuccessful attempt. Trying again.\n",
      "Error : Empty dataframe. Please try Again.\n",
      "Downloading  [-] 100.00 % \n",
      "AAKASH\n",
      "AARON\n"
     ]
    }
   ],
   "source": [
    "company_csv = pd.read_csv('CompanyList.csv')\n",
    "size = company_csv.size\n",
    "for x in range(0,10):\n",
    "    symbol = company_csv.SYMBOL[x]\n",
    "    try:\n",
    "        df = stocks.get_data(stockSymbol=symbol, start_date = '10-06-2021', end_date = to)\n",
    "        df.to_csv(r'C:\\Users\\Divyanshu\\Desktop\\Machine Learning\\company_data\\ ' + symbol + \".csv\")\n",
    "    except:\n",
    "        print(symbol)\n"
   ]
  },
  {
   "cell_type": "code",
   "execution_count": null,
   "metadata": {},
   "outputs": [],
   "source": []
  }
 ],
 "metadata": {
  "kernelspec": {
   "display_name": "Python 3",
   "language": "python",
   "name": "python3"
  },
  "language_info": {
   "codemirror_mode": {
    "name": "ipython",
    "version": 3
   },
   "file_extension": ".py",
   "mimetype": "text/x-python",
   "name": "python",
   "nbconvert_exporter": "python",
   "pygments_lexer": "ipython3",
   "version": "3.8.5"
  }
 },
 "nbformat": 4,
 "nbformat_minor": 4
}
