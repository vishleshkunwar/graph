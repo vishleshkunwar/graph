{
 "cells": [
  {
   "cell_type": "code",
   "execution_count": 2,
   "id": "1a2fe365",
   "metadata": {},
   "outputs": [],
   "source": [
    "import requests, zipfile, io\n",
    "import pandas as pd"
   ]
  },
  {
   "cell_type": "code",
   "execution_count": 3,
   "id": "6187106f",
   "metadata": {},
   "outputs": [
    {
     "data": {
      "text/plain": [
       "Index(['010107', '020107', '030107', '040107', '050107', '080107', '090107',\n",
       "       '100107', '110107', '120107',\n",
       "       ...\n",
       "       '210621', '220621', '230621', '240621', '250621', '280621', '290621',\n",
       "       '300621', '010721', '020721'],\n",
       "      dtype='object', length=3785)"
      ]
     },
     "execution_count": 3,
     "metadata": {},
     "output_type": "execute_result"
    }
   ],
   "source": [
    "rng = pd.date_range(start=\"1/1/2007\",end=\"07/02/2021\", freq='b')\n",
    "rng = rng.strftime('%d%m%y')\n",
    "rng"
   ]
  },
  {
   "cell_type": "code",
   "execution_count": null,
   "id": "35c0705b",
   "metadata": {},
   "outputs": [],
   "source": [
    "headers = {\n",
    "        'Connection': 'keep-alive',\n",
    "        'Cache-Control': 'max-age=0',\n",
    "        'DNT': '1',\n",
    "        'Upgrade-Insecure-Requests': '1',\n",
    "        'User-Agent': 'Mozilla/5.0 (Windows NT 10.0; Win64; x64) AppleWebKit/537.36 (KHTML, like Gecko) Chrome/79.0.3945.79 Safari/537.36',\n",
    "        'Sec-Fetch-User': '?1',\n",
    "        'Accept': 'text/html,application/xhtml+xml,application/xml;q=0.9,image/avif,image/webp,image/apng,*/*;q=0.8,application/signed-exchange;v=b3;q=0.9',\n",
    "        'Sec-Fetch-Site': 'none',\n",
    "        'Sec-Fetch-Mode': 'navigate',\n",
    "        'Accept-Encoding': 'gzip, deflate, br',\n",
    "        'Accept-Language': 'en-US,en;q=0.9,hi;q=0.8',\n",
    "    }\n",
    "for i in rng:\n",
    "    try:\n",
    "        zipurl = 'https://www.bseindia.com/download/BhavCopy/Equity/EQ'+ i +'_CSV.ZIP'\n",
    "        r = requests.get(zipurl,headers=headers)\n",
    "        z = zipfile.ZipFile(io.BytesIO(r.content))\n",
    "        z.extractall(\"bsedata/\")\n",
    "    except:\n",
    "        print(i)"
   ]
  },
  {
   "cell_type": "code",
   "execution_count": null,
   "id": "826b9b63",
   "metadata": {},
   "outputs": [],
   "source": []
  }
 ],
 "metadata": {
  "kernelspec": {
   "display_name": "Python 3",
   "language": "python",
   "name": "python3"
  },
  "language_info": {
   "codemirror_mode": {
    "name": "ipython",
    "version": 3
   },
   "file_extension": ".py",
   "mimetype": "text/x-python",
   "name": "python",
   "nbconvert_exporter": "python",
   "pygments_lexer": "ipython3",
   "version": "3.8.8"
  }
 },
 "nbformat": 4,
 "nbformat_minor": 5
}
