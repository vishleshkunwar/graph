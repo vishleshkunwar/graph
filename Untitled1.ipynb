{
 "cells": [
  {
   "cell_type": "code",
   "execution_count": 3,
   "id": "31564293",
   "metadata": {},
   "outputs": [],
   "source": [
    "import pandas as pd\n",
    "import numpy as np\n",
    "import matplotlib.pyplot as plt\n",
    "from matplotlib import colors as mcolors\n",
    "from matplotlib.collections import LineCollection, PolyCollection\n",
    "from matplotlib.lines import TICKLEFT, TICKRIGHT, Line2D\n",
    "from matplotlib.patches import Rectangle\n",
    "from matplotlib.transforms import Affine2D\n",
    "from six.moves import xrange, zip\n",
    "from __future__ import (absolute_import, division, print_function,\n",
    "                        unicode_literals)\n"
   ]
  },
  {
   "cell_type": "code",
   "execution_count": 4,
   "id": "2669cc9f",
   "metadata": {},
   "outputs": [],
   "source": [
    "df =pd.read_csv('ACC.csv')\n",
    "df['Date']=pd.to_datetime(df['Date'])\n",
    "df=df.head(20)\n",
    "df=df.rename(columns={'Date':'d','Open Price':'o',\n",
    "                    'High Price':'h',\n",
    "                    'Low Price':'l',\n",
    "                    'Close Price':'c'})         "
   ]
  },
  {
   "cell_type": "code",
   "execution_count": 5,
   "id": "804e9f76",
   "metadata": {},
   "outputs": [],
   "source": [
    "x=np.arange(0,len(df))"
   ]
  },
  {
   "cell_type": "code",
   "execution_count": 6,
   "id": "1990820d",
   "metadata": {
    "scrolled": true
   },
   "outputs": [
    {
     "data": {
      "text/plain": [
       "<function matplotlib.pyplot.show(close=None, block=None)>"
      ]
     },
     "execution_count": 6,
     "metadata": {},
     "output_type": "execute_result"
    },
    {
     "data": {
      "image/png": "[encoded data removed]",
      "text/plain": [
       "<Figure size 864x576 with 1 Axes>"
      ]
     },
     "metadata": {
      "needs_background": "light"
     },
     "output_type": "display_data"
    }
   ],
   "source": [
    "#graph ohcl\n",
    "\n",
    "fig, ax = plt.subplots(1, figsize=(12,8))\n",
    "lines = []\n",
    "for i in x:\n",
    "    if df['c'][i] >=df['o'][i]:\n",
    "        color = 'g'\n",
    "    else:\n",
    "        color = 'r'\n",
    "    \n",
    "    vline = Line2D(xdata=(i, i), ydata=(df['l'][i],df['h'][i]),color=color)\n",
    "    oline = Line2D(xdata=(i, i), ydata=(df['o'][i], df['o'][i]),color=color,marker=TICKLEFT,markersize=3)\n",
    "    cline = Line2D(xdata=(i, i), ydata=(df['c'][i], df['c'][i]),color=color,markersize=3,marker=TICKRIGHT)\n",
    "\n",
    "    lines.extend((vline, oline, cline))\n",
    "    ax.add_line(vline)\n",
    "    ax.add_line(oline)\n",
    "    ax.add_line(cline)\n",
    "\n",
    "    ax.autoscale_view()\n",
    "\n",
    "plt.show"
   ]
  },
  {
   "cell_type": "code",
   "execution_count": 38,
   "id": "826f21da",
   "metadata": {},
   "outputs": [
    {
     "ename": "IndentationError",
     "evalue": "unexpected indent (<ipython-input-38-5190f23a06da>, line 3)",
     "output_type": "error",
     "traceback": [
      "\u001b[1;36m  File \u001b[1;32m\"<ipython-input-38-5190f23a06da>\"\u001b[1;36m, line \u001b[1;32m3\u001b[0m\n\u001b[1;33m    rangeSegments = [((i,df['l'][i]), (i,df['h'][i])) for i,df['l'][i], df['h'][i] in\u001b[0m\n\u001b[1;37m    ^\u001b[0m\n\u001b[1;31mIndentationError\u001b[0m\u001b[1;31m:\u001b[0m unexpected indent\n"
     ]
    }
   ],
   "source": [
    "    rangeSegments = [((i,df['l'][i]), (i,df['h'][i])) for i,df['l'][i], df['h'][i] in\n",
    "                         zip(xrange(len(df['l'])),df['l'],df['h']) if df['l'][i] != -1]\n",
    "    ticksize=4\n",
    "    openSegments = [((-ticksize, 0), (0, 0))]\n",
    "    closeSegments = [((0, 0), (ticksize, 0))]\n",
    "    offsetsOpen = [(i,df['o'][i]) for i, df['o'][i] in zip(xrange(len(df['o'])), df['o']) if df['o'][i] != -1]\n",
    "\n",
    "    offsetsClose = [(i, df['c'][i]) for i, df['c'][i] in zip(xrange(len(df['c'])),df['c']) if df['c'][i] != -1]\n",
    "    scale = ax.figure.dpi * (1.0 / 72.0)\n",
    "\n",
    "    tickTransform = Affine2D().scale(scale, 0.0)\n",
    "\n",
    "    colorup = mcolors.to_rgba('g')\n",
    "    colordown = mcolors.to_rgba('r')\n",
    "    colord = {True:'g', False: 'r'}\n",
    "    colors = [colord[df['o'][i] <= df['c'][i]] for df['o'][i],df['c'][i] in zip(df['o'],df['c']) if df['o'][i] != -1 and df['c'][i] != -1]\n",
    "\n",
    "    useAA = 0,   # use tuple here\n",
    "    lw = 1,    \n",
    "    rangeCollection = LineCollection(rangeSegments,colors=colors,linewidths=lw,antialiaseds=useAA)\n",
    "\n",
    "    openCollection = LineCollection(openSegments,colors=colors,antialiaseds=useAA,linewidths=lw,offsets=offsetsOpen,transOffset=ax.transData)\n",
    "    openCollection.set_transform(tickTransform)\n",
    "\n",
    "    closeCollection = LineCollection(closeSegments,colors=colors,antialiaseds=useAA,linewidths=lw,offsets=offsetsClose,transOffset=ax.transData)\n",
    "    closeCollection.set_transform(tickTransform)\n",
    "\n",
    "    minpy, maxx = (0, len(rangeSegments))\n",
    "    miny = min([df['l'][i] for df['l'][i] in df['l'] if df['l'][i] != -1])\n",
    "    maxy = max([df['h'][i] for df['h'][i] in df['h'] if df['h'][i] != -1])\n",
    "    corners = (minpy, miny), (maxx, maxy)\n",
    "    ax.update_datalim(corners)\n",
    "    ax.autoscale_view()\n",
    "\n",
    "    # add these last\n",
    "    ax.add_collection(rangeCollection)\n",
    "    ax.add_collection(openCollection)\n",
    "    ax.add_collection(closeCollection)\n",
    "\n",
    "plt.show()"
   ]
  }
 ],
 "metadata": {
  "kernelspec": {
   "display_name": "Python 3",
   "language": "python",
   "name": "python3"
  },
  "language_info": {
   "codemirror_mode": {
    "name": "ipython",
    "version": 3
   },
   "file_extension": ".py",
   "mimetype": "text/x-python",
   "name": "python",
   "nbconvert_exporter": "python",
   "pygments_lexer": "ipython3",
   "version": "3.8.8"
  }
 },
 "nbformat": 4,
 "nbformat_minor": 5
}
